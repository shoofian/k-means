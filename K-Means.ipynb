{
  "cells": [
    {
      "cell_type": "code",
      "execution_count": 10,
      "metadata": {
        "id": "CgAReI6Hdw5f"
      },
      "outputs": [],
      "source": [
        "# LIBRARY\n",
        "\n",
        "import numpy as np # Menghitung hitung\n",
        "import pandas as pd # Untuk ngolah data\n",
        "from sklearn.cluster import KMeans # Model machine learning yang akan kita gunakan\n",
        "import matplotlib.pyplot as plt # Untuk visualisasi\n",
        "from joblib import Parallel, delayed"
      ]
    },
    {
      "cell_type": "code",
      "execution_count": 11,
      "metadata": {
        "colab": {
          "base_uri": "https://localhost:8080/",
          "height": 363
        },
        "id": "M1pDtaF5ex-f",
        "outputId": "c5b48172-aa38-4ba0-ac46-2c159b2d9db2"
      },
      "outputs": [
        {
          "data": {
            "text/html": [
              "\n",
              "  <div id=\"df-42362a81-1ff3-45d1-8cc1-0a12e2fa13dc\">\n",
              "    <div class=\"colab-df-container\">\n",
              "      <div>\n",
              "<style scoped>\n",
              "    .dataframe tbody tr th:only-of-type {\n",
              "        vertical-align: middle;\n",
              "    }\n",
              "\n",
              "    .dataframe tbody tr th {\n",
              "        vertical-align: top;\n",
              "    }\n",
              "\n",
              "    .dataframe thead th {\n",
              "        text-align: right;\n",
              "    }\n",
              "</style>\n",
              "<table border=\"1\" class=\"dataframe\">\n",
              "  <thead>\n",
              "    <tr style=\"text-align: right;\">\n",
              "      <th></th>\n",
              "      <th>x1</th>\n",
              "      <th>x2</th>\n",
              "    </tr>\n",
              "  </thead>\n",
              "  <tbody>\n",
              "    <tr>\n",
              "      <th>0</th>\n",
              "      <td>1</td>\n",
              "      <td>12</td>\n",
              "    </tr>\n",
              "    <tr>\n",
              "      <th>1</th>\n",
              "      <td>3</td>\n",
              "      <td>17</td>\n",
              "    </tr>\n",
              "    <tr>\n",
              "      <th>2</th>\n",
              "      <td>4</td>\n",
              "      <td>18</td>\n",
              "    </tr>\n",
              "    <tr>\n",
              "      <th>3</th>\n",
              "      <td>7</td>\n",
              "      <td>15</td>\n",
              "    </tr>\n",
              "    <tr>\n",
              "      <th>4</th>\n",
              "      <td>5</td>\n",
              "      <td>18</td>\n",
              "    </tr>\n",
              "    <tr>\n",
              "      <th>5</th>\n",
              "      <td>10</td>\n",
              "      <td>4</td>\n",
              "    </tr>\n",
              "    <tr>\n",
              "      <th>6</th>\n",
              "      <td>11</td>\n",
              "      <td>3</td>\n",
              "    </tr>\n",
              "    <tr>\n",
              "      <th>7</th>\n",
              "      <td>13</td>\n",
              "      <td>5</td>\n",
              "    </tr>\n",
              "    <tr>\n",
              "      <th>8</th>\n",
              "      <td>14</td>\n",
              "      <td>3</td>\n",
              "    </tr>\n",
              "    <tr>\n",
              "      <th>9</th>\n",
              "      <td>16</td>\n",
              "      <td>4</td>\n",
              "    </tr>\n",
              "  </tbody>\n",
              "</table>\n",
              "</div>\n",
              "      <button class=\"colab-df-convert\" onclick=\"convertToInteractive('df-42362a81-1ff3-45d1-8cc1-0a12e2fa13dc')\"\n",
              "              title=\"Convert this dataframe to an interactive table.\"\n",
              "              style=\"display:none;\">\n",
              "        \n",
              "  <svg xmlns=\"http://www.w3.org/2000/svg\" height=\"24px\"viewBox=\"0 0 24 24\"\n",
              "       width=\"24px\">\n",
              "    <path d=\"M0 0h24v24H0V0z\" fill=\"none\"/>\n",
              "    <path d=\"M18.56 5.44l.94 2.06.94-2.06 2.06-.94-2.06-.94-.94-2.06-.94 2.06-2.06.94zm-11 1L8.5 8.5l.94-2.06 2.06-.94-2.06-.94L8.5 2.5l-.94 2.06-2.06.94zm10 10l.94 2.06.94-2.06 2.06-.94-2.06-.94-.94-2.06-.94 2.06-2.06.94z\"/><path d=\"M17.41 7.96l-1.37-1.37c-.4-.4-.92-.59-1.43-.59-.52 0-1.04.2-1.43.59L10.3 9.45l-7.72 7.72c-.78.78-.78 2.05 0 2.83L4 21.41c.39.39.9.59 1.41.59.51 0 1.02-.2 1.41-.59l7.78-7.78 2.81-2.81c.8-.78.8-2.07 0-2.86zM5.41 20L4 18.59l7.72-7.72 1.47 1.35L5.41 20z\"/>\n",
              "  </svg>\n",
              "      </button>\n",
              "      \n",
              "  <style>\n",
              "    .colab-df-container {\n",
              "      display:flex;\n",
              "      flex-wrap:wrap;\n",
              "      gap: 12px;\n",
              "    }\n",
              "\n",
              "    .colab-df-convert {\n",
              "      background-color: #E8F0FE;\n",
              "      border: none;\n",
              "      border-radius: 50%;\n",
              "      cursor: pointer;\n",
              "      display: none;\n",
              "      fill: #1967D2;\n",
              "      height: 32px;\n",
              "      padding: 0 0 0 0;\n",
              "      width: 32px;\n",
              "    }\n",
              "\n",
              "    .colab-df-convert:hover {\n",
              "      background-color: #E2EBFA;\n",
              "      box-shadow: 0px 1px 2px rgba(60, 64, 67, 0.3), 0px 1px 3px 1px rgba(60, 64, 67, 0.15);\n",
              "      fill: #174EA6;\n",
              "    }\n",
              "\n",
              "    [theme=dark] .colab-df-convert {\n",
              "      background-color: #3B4455;\n",
              "      fill: #D2E3FC;\n",
              "    }\n",
              "\n",
              "    [theme=dark] .colab-df-convert:hover {\n",
              "      background-color: #434B5C;\n",
              "      box-shadow: 0px 1px 3px 1px rgba(0, 0, 0, 0.15);\n",
              "      filter: drop-shadow(0px 1px 2px rgba(0, 0, 0, 0.3));\n",
              "      fill: #FFFFFF;\n",
              "    }\n",
              "  </style>\n",
              "\n",
              "      <script>\n",
              "        const buttonEl =\n",
              "          document.querySelector('#df-42362a81-1ff3-45d1-8cc1-0a12e2fa13dc button.colab-df-convert');\n",
              "        buttonEl.style.display =\n",
              "          google.colab.kernel.accessAllowed ? 'block' : 'none';\n",
              "\n",
              "        async function convertToInteractive(key) {\n",
              "          const element = document.querySelector('#df-42362a81-1ff3-45d1-8cc1-0a12e2fa13dc');\n",
              "          const dataTable =\n",
              "            await google.colab.kernel.invokeFunction('convertToInteractive',\n",
              "                                                     [key], {});\n",
              "          if (!dataTable) return;\n",
              "\n",
              "          const docLinkHtml = 'Like what you see? Visit the ' +\n",
              "            '<a target=\"_blank\" href=https://colab.research.google.com/notebooks/data_table.ipynb>data table notebook</a>'\n",
              "            + ' to learn more about interactive tables.';\n",
              "          element.innerHTML = '';\n",
              "          dataTable['output_type'] = 'display_data';\n",
              "          await google.colab.output.renderOutput(dataTable, element);\n",
              "          const docLink = document.createElement('div');\n",
              "          docLink.innerHTML = docLinkHtml;\n",
              "          element.appendChild(docLink);\n",
              "        }\n",
              "      </script>\n",
              "    </div>\n",
              "  </div>\n",
              "  "
            ],
            "text/plain": [
              "   x1  x2\n",
              "0   1  12\n",
              "1   3  17\n",
              "2   4  18\n",
              "3   7  15\n",
              "4   5  18\n",
              "5  10   4\n",
              "6  11   3\n",
              "7  13   5\n",
              "8  14   3\n",
              "9  16   4"
            ]
          },
          "execution_count": 11,
          "metadata": {},
          "output_type": "execute_result"
        }
      ],
      "source": [
        "df = pd.read_excel('/content/kmeans_example_data.xlsx')\n",
        "df"
      ]
    },
    {
      "cell_type": "code",
      "execution_count": 12,
      "metadata": {
        "colab": {
          "base_uri": "https://localhost:8080/",
          "height": 500
        },
        "id": "0gRaVFdue7GN",
        "outputId": "6d0aa38f-b038-4002-9859-e7ce10217fed"
      },
      "outputs": [
        {
          "data": {
            "text/plain": [
              "<matplotlib.collections.PathCollection at 0x7f7ab8f7cfd0>"
            ]
          },
          "execution_count": 12,
          "metadata": {},
          "output_type": "execute_result"
        },
        {
          "data": {
            "image/png": "[encoded data removed]",
            "text/plain": [
              "<Figure size 576x576 with 1 Axes>"
            ]
          },
          "metadata": {
            "needs_background": "light"
          },
          "output_type": "display_data"
        }
      ],
      "source": [
        "#VISUALISASI\n",
        "\n",
        "plt.figure(1 , figsize = (8 , 8) )\n",
        "plt.scatter(x = df.iloc[:,0] ,y = df.iloc[:,1])"
      ]
    },
    {
      "cell_type": "code",
      "execution_count": 13,
      "metadata": {
        "id": "mcqC9lDMfw1V"
      },
      "outputs": [],
      "source": [
        "# MENCARI INERTIA TERBAIK\n",
        "\n",
        "inertia  = []\n",
        "for n in range(1,10):\n",
        "    algorithm = KMeans(n_clusters = n)\n",
        "    algorithm.fit(df)\n",
        "    inertia.append(algorithm.inertia_)"
      ]
    },
    {
      "cell_type": "code",
      "execution_count": 14,
      "metadata": {
        "colab": {
          "base_uri": "https://localhost:8080/",
          "height": 348
        },
        "id": "7Ws9sb5TgqPU",
        "outputId": "cc38c90e-6a5d-41f8-d4cf-9a4e52052a87"
      },
      "outputs": [
        {
          "data": {
            "image/png": "[encoded data removed]",
            "text/plain": [
              "<Figure size 1080x432 with 1 Axes>"
            ]
          },
          "metadata": {
            "needs_background": "light"
          },
          "output_type": "display_data"
        }
      ],
      "source": [
        "# VISUALISASI INERTIA\n",
        "plt.figure(1 , figsize = (15 ,6))\n",
        "plt.plot(np.arange(1 , 10) , inertia , 'o')\n",
        "plt.plot(np.arange(1 , 10) , inertia , '-' , alpha = 0.5)\n",
        "plt.xlabel('Number of Clusters') , plt.ylabel('Inertia')\n",
        "plt.show()\n"
      ]
    },
    {
      "cell_type": "code",
      "execution_count": 18,
      "metadata": {
        "id": "OC9dENDFkNBr"
      },
      "outputs": [],
      "source": [
        "def kMeansRes(scaled_data, k, alpha_k=0.02):\n",
        "    '''\n",
        "    Parameters \n",
        "    ----------\n",
        "    scaled_data: matrix \n",
        "        scaled data. rows are samples and columns are features for clustering\n",
        "    k: int\n",
        "        current k for applying KMeans\n",
        "    alpha_k: float\n",
        "        manually tuned factor that gives penalty to the number of clusters\n",
        "    Returns \n",
        "    -------\n",
        "    scaled_inertia: float\n",
        "        scaled inertia value for current k           \n",
        "    '''\n",
        "    \n",
        "    inertia_o = np.square((scaled_data - scaled_data.mean(axis=0))).sum()\n",
        "    # fit k-means\n",
        "    kmeans = KMeans(n_clusters=k, random_state=0).fit(scaled_data)\n",
        "    scaled_inertia = kmeans.inertia_ / inertia_o + alpha_k * k\n",
        "    return scaled_inertia\n",
        "\n",
        "def chooseBestKforKMeansParallel(scaled_data, k_range):\n",
        "    '''\n",
        "    Parameters \n",
        "    ----------\n",
        "    scaled_data: matrix \n",
        "        scaled data. rows are samples and columns are features for clustering\n",
        "    k_range: list of integers\n",
        "        k range for applying KMeans\n",
        "    Returns \n",
        "    -------\n",
        "    best_k: int\n",
        "        chosen value of k out of the given k range.\n",
        "        chosen k is k with the minimum scaled inertia value.\n",
        "    results: pandas DataFrame\n",
        "        adjusted inertia value for each k in k_range\n",
        "    '''\n",
        "    \n",
        "    ans = Parallel(n_jobs=-1,verbose=10)(delayed(kMeansRes)(scaled_data, k) for k in k_range)\n",
        "    ans = list(zip(k_range,ans))\n",
        "    results = pd.DataFrame(ans, columns = ['k','Scaled Inertia']).set_index('k')\n",
        "    best_k = results.idxmin()[0]\n",
        "    return best_k, results"
      ]
    },
    {
      "cell_type": "code",
      "execution_count": 19,
      "metadata": {
        "colab": {
          "base_uri": "https://localhost:8080/",
          "height": 662
        },
        "id": "hZY9lXsrg12l",
        "outputId": "48ce3dc0-6789-4a58-b5bc-fde0151fef5e"
      },
      "outputs": [
        {
          "name": "stderr",
          "output_type": "stream",
          "text": [
            "/usr/local/lib/python3.7/dist-packages/sklearn/utils/validation.py:598: FutureWarning: np.matrix usage is deprecated in 1.0 and will raise a TypeError in 1.2. Please convert to a numpy array with np.asarray. For more information see: https://numpy.org/doc/stable/reference/generated/numpy.matrix.html\n",
            "  FutureWarning,\n",
            "/usr/local/lib/python3.7/dist-packages/sklearn/utils/validation.py:598: FutureWarning: np.matrix usage is deprecated in 1.0 and will raise a TypeError in 1.2. Please convert to a numpy array with np.asarray. For more information see: https://numpy.org/doc/stable/reference/generated/numpy.matrix.html\n",
            "  FutureWarning,\n",
            "[Parallel(n_jobs=-1)]: Using backend LokyBackend with 2 concurrent workers.\n",
            "[Parallel(n_jobs=-1)]: Done   1 tasks      | elapsed:    1.1s\n",
            "[Parallel(n_jobs=-1)]: Done   4 tasks      | elapsed:    1.2s\n",
            "[Parallel(n_jobs=-1)]: Done   7 out of   9 | elapsed:    1.3s remaining:    0.4s\n",
            "[Parallel(n_jobs=-1)]: Done   9 out of   9 | elapsed:    1.3s remaining:    0.0s\n",
            "[Parallel(n_jobs=-1)]: Done   9 out of   9 | elapsed:    1.3s finished\n"
          ]
        },
        {
          "data": {
            "text/plain": [
              "([<matplotlib.axis.XTick at 0x7f7ab8d4cad0>,\n",
              "  <matplotlib.axis.XTick at 0x7f7ab8d4ca90>,\n",
              "  <matplotlib.axis.XTick at 0x7f7ab8d4c6d0>,\n",
              "  <matplotlib.axis.XTick at 0x7f7ab84f4610>,\n",
              "  <matplotlib.axis.XTick at 0x7f7ab84f4b50>,\n",
              "  <matplotlib.axis.XTick at 0x7f7ab84f4d90>,\n",
              "  <matplotlib.axis.XTick at 0x7f7ab84f8650>,\n",
              "  <matplotlib.axis.XTick at 0x7f7ab84f8b90>,\n",
              "  <matplotlib.axis.XTick at 0x7f7ab84f8750>],\n",
              " <a list of 9 Text major ticklabel objects>)"
            ]
          },
          "execution_count": 19,
          "metadata": {},
          "output_type": "execute_result"
        },
        {
          "data": {
            "image/png": "[encoded data removed]",
            "text/plain": [
              "<Figure size 504x288 with 1 Axes>"
            ]
          },
          "metadata": {
            "needs_background": "light"
          },
          "output_type": "display_data"
        }
      ],
      "source": [
        "# create data matrix\n",
        "data_matrix = np.matrix(df).astype(float)\n",
        "# scale the data\n",
        "from sklearn.preprocessing import MinMaxScaler\n",
        "mms = MinMaxScaler()\n",
        "scaled_data = mms.fit_transform(data_matrix)\n",
        "\n",
        "# choose k range\n",
        "k_range=range(1,10)\n",
        "# compute adjusted intertia\n",
        "best_k, results = chooseBestKforKMeansParallel(scaled_data, k_range)\n",
        "\n",
        "# plot the results\n",
        "plt.figure(figsize=(7,4))\n",
        "plt.plot(results,'o')\n",
        "plt.title('Adjusted Inertia for each K')\n",
        "plt.xlabel('K')\n",
        "plt.ylabel('Adjusted Inertia')\n",
        "plt.xticks(range(1,10,1))"
      ]
    },
    {
      "cell_type": "code",
      "execution_count": 26,
      "metadata": {
        "colab": {
          "base_uri": "https://localhost:8080/"
        },
        "id": "6hvrh1Mnj_6z",
        "outputId": "d7a4493f-fcdf-4543-c528-c2decf5d6a81"
      },
      "outputs": [
        {
          "data": {
            "text/plain": [
              "KMeans(n_clusters=3)"
            ]
          },
          "execution_count": 26,
          "metadata": {},
          "output_type": "execute_result"
        }
      ],
      "source": [
        "#PELATIHAN KMEANS\n",
        "algorithm = KMeans(n_clusters = 3)\n",
        "algorithm.fit(df)"
      ]
    },
    {
      "cell_type": "code",
      "execution_count": 27,
      "metadata": {
        "id": "aZfc1GG_kedb"
      },
      "outputs": [],
      "source": [
        "#LABEL DAN CENTROID\n",
        "labels = algorithm.labels_\n",
        "centroids = algorithm.cluster_centers_"
      ]
    },
    {
      "cell_type": "code",
      "execution_count": 28,
      "metadata": {
        "colab": {
          "base_uri": "https://localhost:8080/",
          "height": 454
        },
        "id": "4dW_9pThki27",
        "outputId": "489675b4-2cd7-402c-de41-4bcc7d20c0e9"
      },
      "outputs": [
        {
          "name": "stderr",
          "output_type": "stream",
          "text": [
            "/usr/local/lib/python3.7/dist-packages/sklearn/base.py:451: UserWarning: X does not have valid feature names, but KMeans was fitted with feature names\n",
            "  \"X does not have valid feature names, but\"\n"
          ]
        },
        {
          "data": {
            "image/png": "[encoded data removed]",
            "text/plain": [
              "<Figure size 1080x504 with 1 Axes>"
            ]
          },
          "metadata": {
            "needs_background": "light"
          },
          "output_type": "display_data"
        }
      ],
      "source": [
        "#EVALUASI KMEANS DENGAN GRAFIK\n",
        "h = 0.02\n",
        "x_min, x_max = df.iloc[:,0].min() - 1, df.iloc[:,0].max() + 1\n",
        "y_min, y_max = df.iloc[:, 1].min() - 1, df.iloc[:, 1].max() + 1\n",
        "xx, yy = np.meshgrid(np.arange(x_min, x_max, h), np.arange(y_min, y_max, h))\n",
        "Z = algorithm.predict(np.c_[xx.ravel(), yy.ravel()])\n",
        "\n",
        "plt.figure(1 , figsize = (15 , 7) )\n",
        "plt.clf()\n",
        "Z = Z.reshape(xx.shape)\n",
        "plt.imshow(Z , interpolation='nearest', \n",
        "           extent=(xx.min(), xx.max(), yy.min(), yy.max()),\n",
        "           cmap = plt.cm.Pastel2, aspect = 'auto', origin='lower')\n",
        "\n",
        "plt.scatter(x = df.iloc[:,0] ,y = df.iloc[:,1], c = labels, s = 200 )\n",
        "plt.scatter(x = centroids[: , 0] , y =  centroids[: , 1] , s = 300 , c = 'red' , alpha = 0.5)\n",
        "plt.ylabel('X1') , plt.xlabel('X2')\n",
        "plt.show()"
      ]
    },
    {
      "cell_type": "code",
      "execution_count": null,
      "metadata": {
        "id": "jzwtY84tkouU"
      },
      "outputs": [],
      "source": []
    }
  ],
  "metadata": {
    "colab": {
      "collapsed_sections": [],
      "provenance": []
    },
    "kernelspec": {
      "display_name": "Python 3.9.5 64-bit",
      "language": "python",
      "name": "python3"
    },
    "language_info": {
      "name": "python",
      "version": "3.9.5"
    },
    "vscode": {
      "interpreter": {
        "hash": "cd4fc0a8b6cf42942781d618af6e6749fbb04ede455b2e320cb8017835457eb7"
      }
    }
  },
  "nbformat": 4,
  "nbformat_minor": 0
}
